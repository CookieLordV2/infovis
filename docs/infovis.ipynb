{
 "cells": [
  {
   "attachments": {},
   "cell_type": "markdown",
   "metadata": {},
   "source": [
    "# An In-Depth Analysis of the Social Media Platform Trell"
   ]
  },
  {
   "attachments": {},
   "cell_type": "markdown",
   "metadata": {},
   "source": [
    "*** \n",
    "## Introduction\n",
    "\n",
    "Welcome to our data story project, where we embark on an exciting journey to explore the depths of the social media platform Trell. Through a series of interlinked visualizations and explanatory text, we aim to unravel the intricate relationships within Trell's user data and shed light on the factors influencing user engagement.\n",
    "\n",
    "Trell, a popular social media platform, offers users a unique space to discover, create, and share their experiences through captivating visual content. In this project, we dive into a comprehensive dataset that encompasses a wide range of attributes related to Trell's users. From user demographics and activity patterns to engagement metrics and content preferences, our dataset provides a rich foundation for uncovering fascinating insights.\n",
    "\n",
    "Before we delve into the analysis, we diligently preprocess the dataset to ensure data quality and relevance. Cleaning the dataset, handling missing values, and transforming variables where necessary form the crucial groundwork for our exploration. By employing best practices in data preprocessing, we ensure that our subsequent analyses and visualizations are accurate and informative.\n",
    "\n",
    "Throughout the project, we actively seek feedback from our Teaching Assistant (TA) and peers, recognizing the value of diverse perspectives in refining our analysis and improving the clarity of our visualizations. This iterative process enables us to present a compelling data story that effectively communicates the insights derived from the Trell dataset.\n",
    "\n",
    "Join us on this captivating journey as we uncover the correlations between various attributes within Trell and unravel the secrets behind user engagement patterns. Through the fusion of data, visualizations, and explanatory text, we hope to empower researchers, marketers, and enthusiasts with a deeper understanding of the dynamic landscape of Trell."
   ]
  },
  {
   "cell_type": "code",
   "execution_count": null,
   "metadata": {
    "tags": []
   },
   "outputs": [],
   "source": [
    "# Imports\n",
    "\n",
    "import pandas as pd\n",
    "from scipy.stats import pearsonr\n",
    "import plotly.graph_objects as go\n",
    "import plotly.express as px\n",
    "import plotly.offline as pyo\n",
    "import numpy as np\n",
    "pyo.init_notebook_mode()"
   ]
  },
  {
   "attachments": {},
   "cell_type": "markdown",
   "metadata": {},
   "source": [
    "## Our perspectives\n",
    "\n",
    "\n",
    "### Perspective 1: Content Creator on Trell\n",
    "\n",
    "As a content creator on Trell, you play a vital role in shaping the platform's landscape and engaging with its user base. Through this perspective, we aim to provide insights into the factors that contribute to your success and help you optimize your content creation strategy.\n",
    "\n",
    "By analyzing the dataset, we explore the correlation between various attributes and the content creator's performance on Trell. We investigate factors such as user activity, the age groups of users, and audience sizes to understand their impact on content reach and engagement. Through visualizations and data-driven analysis, we aim to empower content creators with actionable insights to enhance their content's visibility and impact."
   ]
  },
  {
   "attachments": {},
   "cell_type": "markdown",
   "metadata": {},
   "source": [
    "<u> Argument #1: A content creator shouldn't upload at night. </u>\n",
    "- The best time to upload a video would be during the day, with increasing effectiveness towards the evening. Even though the differences between the different parts of the day are less than 2%, it appears in the pie chart that it is a good idea to not upload during the night, as it won't show up to a lot of people their feed."
   ]
  },
  {
   "cell_type": "code",
   "execution_count": null,
   "metadata": {
    "tags": [
     "hide-input"
    ]
   },
   "outputs": [],
   "source": [
    "# Graph 1\n",
    "\n",
    "data = pd.read_csv('train_age_dataset.csv')\n",
    "\n",
    "slot1_sum = int(data['slot1_trails_watched_per_day'].sum())\n",
    "slot2_sum = int(data['slot2_trails_watched_per_day'].sum())\n",
    "slot3_sum = int(data['slot3_trails_watched_per_day'].sum())\n",
    "slot4_sum = int(data['slot4_trails_watched_per_day'].sum())\n",
    "\n",
    "slot_sums = [slot1_sum, slot2_sum, slot3_sum, slot4_sum]\n",
    "\n",
    "slots = ['00:00-05:59', '06:00-11:59', '12:00-17:59', '18:00-23:59']\n",
    "\n",
    "fig = go.Figure(data=[go.Pie(labels=slots, values=slot_sums)])\n",
    "\n",
    "fig.update_layout(\n",
    "    title='Videos watched per time slot',\n",
    "    height=500\n",
    ")\n",
    "\n",
    "fig.show()"
   ]
  },
  {
   "attachments": {},
   "cell_type": "markdown",
   "metadata": {},
   "source": [
    "> Graph 1: The different parts of the pie chart represent 6-hour intervals during the day. It implies that users don't really watch videos during the night."
   ]
  },
  {
   "attachments": {},
   "cell_type": "markdown",
   "metadata": {},
   "source": [
    "<u> Argument #2: We should make videos aimed at a young audience. </u>\n",
    "\n",
    "To maximize views and channel growth a content creator should focus on creating content for users under 18 because the younger audience is by far the biggest one. Even if the 18+ audience is compared to the <18 audience it is still smaller than the younger audience."
   ]
  },
  {
   "cell_type": "code",
   "execution_count": null,
   "metadata": {
    "tags": [
     "hide-input"
    ]
   },
   "outputs": [],
   "source": [
    "# Graph 2\n",
    "\n",
    "# Read the data frosm CSV\n",
    "data = pd.read_csv('train_age_dataset.csv')\n",
    "\n",
    "# Map the age group values to the corresponding labels\n",
    "age_labels = {\n",
    "    1: '<18',\n",
    "    2: '18-24',\n",
    "    3: '24-30',\n",
    "    4: '>30'\n",
    "}\n",
    "\n",
    "data['age_group'] = data['age_group'].map(age_labels)\n",
    "data['age_group'] = pd.Categorical(data['age_group'], categories=age_labels.values(), ordered=True)\n",
    "\n",
    "# Group the data by age group and calculate the mean of videos watched\n",
    "grouped_data = data.groupby('age_group')['content_views'].count().reset_index()\n",
    "\n",
    "# Sort the grouped data by age group\n",
    "grouped_data = grouped_data.sort_values('age_group')\n",
    "\n",
    "# Create lists for age groups and total videos watched\n",
    "age_groups = grouped_data['age_group'].tolist()\n",
    "user_amount = grouped_data['content_views'].tolist()\n",
    "\n",
    "# Create the Plotly bar chart\n",
    "fig = go.Figure(data=[go.Bar(x=age_groups, y=user_amount)])\n",
    "\n",
    "# Update the layout\n",
    "fig.update_layout(\n",
    "    xaxis_title='Age',\n",
    "    yaxis_title='Amount of users',\n",
    "    title='Amount of users per age group',\n",
    "    height=500\n",
    ")\n",
    "\n",
    "# Display the plot\n",
    "fig.show()"
   ]
  },
  {
   "attachments": {},
   "cell_type": "markdown",
   "metadata": {},
   "source": [
    "> Graph 2: This bar chart has the number of users on the y-axis. It shows that there are a lot more users below 18 compared to other age groups."
   ]
  },
  {
   "attachments": {},
   "cell_type": "markdown",
   "metadata": {},
   "source": [
    "<u> Argument #3: Viewer retention is lower for younger audiences. </u>\n",
    "\n",
    "The boxplot shows that on average the video completion rate of younger audiences is lower. By making a video more engaging throughout a video, viewer retention for younger audiences can be increased. \n",
    "\n",
    "On the other hand, it might also be a good idea to try out different video lengths. As this could factor in the attention span of different audiences."
   ]
  },
  {
   "cell_type": "code",
   "execution_count": null,
   "metadata": {
    "tags": [
     "hide-input"
    ]
   },
   "outputs": [],
   "source": [
    "# Graph 3\n",
    "\n",
    "# Load the data from the CSV file\n",
    "df = pd.read_csv('train_age_dataset.csv')\n",
    "\n",
    "# Calculate the lower and upper bounds for outliers using Tukey's fences\n",
    "Q1 = np.percentile(df['avgCompletion'], 25)\n",
    "Q3 = np.percentile(df['avgCompletion'], 75)\n",
    "IQR = Q3 - Q1\n",
    "lower_bound = Q1 - 1.5 * IQR\n",
    "upper_bound = Q3 + 1.5 * IQR\n",
    "\n",
    "# Filter out the outliers\n",
    "df_filtered = df[(df['avgCompletion'] >= lower_bound) & (df['avgCompletion'] <= upper_bound)].copy()\n",
    "\n",
    "filtered_age_groups = [1, 4]\n",
    "df_filtered_subset = df_filtered[df_filtered['age_group'].isin(filtered_age_groups)]\n",
    "\n",
    "# Map gender codes to labels\n",
    "age_labels = {\n",
    "    1: '<18',\n",
    "    4: '>30'\n",
    "}\n",
    "df_filtered_subset.loc[:, 'age_group'] = df_filtered_subset['age_group'].map(age_labels)\n",
    "\n",
    "# Create the boxplot\n",
    "fig = px.box(df_filtered_subset, x='age_group', y='avgCompletion', color='age_group',\n",
    "             labels={'age_group': 'Age', 'avgCompletion': 'Average completion'},\n",
    "             title='Average completion of a video by age group')\n",
    "\n",
    "# Set the width and height of the figure\n",
    "fig.update_layout(height=500)\n",
    "\n",
    "# Show the boxplot\n",
    "fig.show()"
   ]
  },
  {
   "attachments": {},
   "cell_type": "markdown",
   "metadata": {},
   "source": [
    "> Graph 3: It is a boxplot using Tukey Fences to remove outliers, it implies that older users have a longer attention span."
   ]
  },
  {
   "attachments": {},
   "cell_type": "markdown",
   "metadata": {},
   "source": [
    "*** \n",
    "### Perspective 2: Trell's Perspective\n",
    "\n",
    "From Trell's standpoint, understanding user behavior and preferences is crucial for increasing the platform's ability to produce a profit. Through this perspective, we delve into the dataset to uncover valuable insights that can inform strategic decisions and shape Trell's future development.\n",
    "\n",
    "We examine the correlations between attributes such as user demographics, content viewing patterns, and engagement metrics to gain a comprehensive understanding of Trell's user base. By analyzing trends related to video uploads, video completion rate, and different audiences by category, we aim to provide Trell with valuable insights to optimize the user experience and drive platform growth."
   ]
  },
  {
   "attachments": {},
   "cell_type": "markdown",
   "metadata": {},
   "source": [
    "<u> Argument #1: We should increase the incentive for male content creators to upload more videos. </u>\n",
    "\n",
    "By diversifying our content feed we can attract more advertisers towards Trell, this will be beneficial to both our content creators and Trell. It gives more opportunities for advertisers to target the male audience when buying advertisements on Trell."
   ]
  },
  {
   "cell_type": "code",
   "execution_count": null,
   "metadata": {
    "tags": [
     "hide-input"
    ]
   },
   "outputs": [],
   "source": [
    "# Graph 4\n",
    "\n",
    "data = pd.read_csv('train_age_dataset.csv')\n",
    "\n",
    "# Define the age group labels\n",
    "age_labels = {\n",
    "    1: '<18',\n",
    "    2: '18-24',\n",
    "    3: '24-30',\n",
    "    4: '>30'\n",
    "}\n",
    "\n",
    "# Map the age group labels to the age_group column\n",
    "data['age_group'] = data['age_group'].map(age_labels)\n",
    "data['age_group'] = pd.Categorical(data['age_group'], categories=age_labels.values(), ordered=True)\n",
    "\n",
    "# Group the data by age group and gender and calculate the average videos uploaded per person\n",
    "grouped_data = data.groupby(['age_group', 'gender'])['creations'].mean().reset_index()\n",
    "\n",
    "# Separate data for each gender\n",
    "male_data = grouped_data[grouped_data['gender'] == 1]\n",
    "female_data = grouped_data[grouped_data['gender'] == 2]\n",
    "\n",
    "# Create bar traces for male and female genders\n",
    "male_trace = go.Bar(\n",
    "    x=male_data['age_group'],\n",
    "    y=male_data['creations'],\n",
    "    name='Male',\n",
    "    visible=True  # Set initial visibility to False\n",
    ")\n",
    "female_trace = go.Bar(\n",
    "    x=female_data['age_group'],\n",
    "    y=female_data['creations'],\n",
    "    name='Female',\n",
    "    visible=False,  # Set initial visibility to True\n",
    "    marker=dict(color='red')\n",
    ")\n",
    "\n",
    "# Create the layout\n",
    "layout = go.Layout(\n",
    "    title='Average videos uploaded by gender and age',\n",
    "    xaxis=dict(title='Age'),\n",
    "    yaxis=dict(title='Average videos uploaded'),\n",
    "    height=500\n",
    ")\n",
    "\n",
    "# Create the figure and add the traces\n",
    "fig = go.Figure(data=[male_trace, female_trace], layout=layout)\n",
    "\n",
    "# Create dropdown menu buttons\n",
    "buttons = [\n",
    "    dict(\n",
    "        args=[\n",
    "            {'visible': [True, True]},\n",
    "            {'yaxis': {'range': [0, 0.064]}}\n",
    "        ],  # Show both traces\n",
    "        label='Both',\n",
    "        method='update'\n",
    "    ),\n",
    "    dict(\n",
    "        args=[\n",
    "            {'visible': [True, False]},\n",
    "            {'yaxis': {'range': [0, 0.064]}}\n",
    "        ],  # Show only male trace\n",
    "        label='Male',\n",
    "        method='update'\n",
    "    ),\n",
    "    dict(\n",
    "        args=[\n",
    "            {'visible': [False, True]},\n",
    "            {'yaxis': {'range': [0, 0.064]}}\n",
    "        ],  # Show only female trace\n",
    "        label='Female',\n",
    "        method='update'\n",
    "    )\n",
    "]\n",
    "\n",
    "\n",
    "# Create the updatemenus property\n",
    "updatemenus = [\n",
    "    dict(\n",
    "        buttons=buttons,\n",
    "        direction='down',\n",
    "        pad={'r': 10, 't': 10},\n",
    "        showactive=True,\n",
    "        x=0.9,\n",
    "        xanchor='left',\n",
    "        y=1.2,\n",
    "        yanchor='top'\n",
    "    )\n",
    "]\n",
    "\n",
    "# Update the figure layout with updatemenus\n",
    "fig.update_layout(updatemenus=updatemenus)\n",
    "\n",
    "# Add annotation\n",
    "fig.update_layout(\n",
    "    annotations=[\n",
    "        dict(\n",
    "            text='',\n",
    "            showarrow=False,\n",
    "            x=0,\n",
    "            y=1.085,\n",
    "            yref='paper',\n",
    "            align='left'\n",
    "        )\n",
    "    ]\n",
    ")\n",
    "\n",
    "# Set the 'Both' trace as the initial visible trace\n",
    "fig.update_traces(visible=True, selector=dict(name='Female'))\n",
    "\n",
    "# Show the figure\n",
    "fig.show()"
   ]
  },
  {
   "attachments": {},
   "cell_type": "markdown",
   "metadata": {},
   "source": [
    "> Graph 4: This bar chart has the average amount of daily video uploads on the y-axis. It shows that male content creators above the age of 18 are less likely to upload videos. It also shows that younger people are also less likely to upload videos."
   ]
  },
  {
   "attachments": {},
   "cell_type": "markdown",
   "metadata": {},
   "source": [
    "<u> Argument #2: We should separate short and long content. </u>\n",
    "- Short content viewers watch shorter videos and tend to have a higher completion rate and watch more videos. In return, they spend more time on Trell.\n",
    "- Long content viewers tend to watch fewer videos but watch longer videos, however, they also tend to spend less time on Trell and have a lower completion rate.\n",
    "\n",
    "These types of viewers can be seen on YouTube, for example, the split between YouTube shorts and normal YouTube videos. It shows that on Trell there is also a split in users who prefer long and short content. By properly targeting the right audience Trell can also tap into this market."
   ]
  },
  {
   "cell_type": "code",
   "execution_count": null,
   "metadata": {
    "tags": [
     "hide-input"
    ]
   },
   "outputs": [],
   "source": [
    "# Graph 5\n",
    "\n",
    "data = pd.read_csv('train_age_dataset.csv')\n",
    "\n",
    "content_views_categories = pd.qcut(data['content_views'], q=3, labels=['Low', 'Medium', 'High'])\n",
    "avgCompletion_categories = pd.qcut(data['avgCompletion'], q=3, labels=['Low', 'Medium', 'High'])\n",
    "avgTimeSpent_categories = pd.qcut(data['avgTimeSpent'], q=3, labels=['Low', 'Medium', 'High'])\n",
    "avgDuration_categories = pd.qcut(data['avgDuration'], q=3, labels=['Low', 'Medium', 'High'])\n",
    "\n",
    "colors = {\n",
    "    'Low': '#b0c4de',\n",
    "    'Medium': '#3cb371',\n",
    "    'High': '#e9967a'\n",
    "}\n",
    "\n",
    "fig = go.Figure(data=go.Parcats(\n",
    "    dimensions=[\n",
    "        {'label': 'Average videos watched', 'values': content_views_categories, 'categoryorder': 'array', 'categoryarray': ['High', 'Medium', 'Low']},\n",
    "        {'label': 'Completion rate', 'values': avgCompletion_categories, 'categoryorder': 'array', 'categoryarray': ['High', 'Medium', 'Low']},\n",
    "        {'label': 'Average duration watched videos', 'values': avgDuration_categories, 'categoryorder': 'array', 'categoryarray': ['High', 'Medium', 'Low']},\n",
    "        {'label': 'Average time spent', 'values': avgTimeSpent_categories, 'categoryorder': 'array', 'categoryarray': ['High', 'Medium', 'Low']}\n",
    "    ],\n",
    "\n",
    "    line={\n",
    "        'color': avgCompletion_categories.cat.codes,\n",
    "        'colorscale': [[0, '#b0c4de'], [0.5, '#3cb371'], [1, '#e9967a']]\n",
    "    }\n",
    "))\n",
    "\n",
    "fig.update_layout(title='Metrics concerning user engagement', height = 500)\n",
    "fig.show()"
   ]
  },
  {
   "attachments": {},
   "cell_type": "markdown",
   "metadata": {},
   "source": [
    "> Graph 5: This parallel categories diagram uses qcut to split all the users into 3 equal-sized groups multiple times, each grouping the users based on the value from that attribute. It implies that videos with a high completion rate are usually shorter videos, and are usually watched by users that spend a lot of time on Trell."
   ]
  },
  {
   "attachments": {},
   "cell_type": "markdown",
   "metadata": {},
   "source": [
    "<u> Argument #3: Trell should market towards larger cities. </u>\n",
    "\n",
    "Users from larger cities tend to watch more videos. By marketing for this audience and increasing the audience size more ad revenue can be collected because users who watch more videos have more pre-roll advertisements."
   ]
  },
  {
   "cell_type": "code",
   "execution_count": null,
   "metadata": {
    "tags": [
     "hide-input"
    ]
   },
   "outputs": [],
   "source": [
    "# Graph 6\n",
    "\n",
    "# Read the data from the CSV file\n",
    "data = pd.read_csv('train_age_dataset.csv')\n",
    "\n",
    "# Define the tier labels\n",
    "tier_labels = {\n",
    "    1: '100,000+',\n",
    "    2: '50,000 - 99,999',\n",
    "    3: '20.000 - 49,999'\n",
    "}\n",
    "\n",
    "# Map the tier labels to the tier column\n",
    "data['tier'] = data['tier'].map(tier_labels)\n",
    "data['tier'] = pd.Categorical(data['tier'], categories=tier_labels.values(), ordered=True)\n",
    "\n",
    "# Calculate the mean content_views per tier\n",
    "mean_data = data.groupby('tier')['content_views'].mean().reset_index()\n",
    "\n",
    "# Sort the data by the tier labels\n",
    "mean_data = mean_data.sort_values('tier')\n",
    "\n",
    "# Create bar trace for mean content_views\n",
    "mean_trace = go.Bar(\n",
    "    x=mean_data['tier'],\n",
    "    y=mean_data['content_views'],\n",
    "    name='Average Videos Watched',\n",
    "    marker=dict(color='orange')\n",
    ")\n",
    "\n",
    "# Create the layout for mean content_views graph\n",
    "mean_layout = go.Layout(\n",
    "    title='Average daily videos watched per person',\n",
    "    xaxis=dict(title='City population'),\n",
    "    yaxis=dict(title='Daily videos watched'),\n",
    "    height=400\n",
    ")\n",
    "\n",
    "# Create the figure for mean content_views graph\n",
    "mean_fig = go.Figure(data=[mean_trace], layout=mean_layout)\n",
    "\n",
    "# Show the mean content_views graph\n",
    "mean_fig.show()"
   ]
  },
  {
   "attachments": {},
   "cell_type": "markdown",
   "metadata": {},
   "source": [
    "> Graph 6: This bar chart shows the number of videos watched per day per user compared to the size of the city in which the user resides. It implies that there is a positive correlation between the two."
   ]
  },
  {
   "attachments": {},
   "cell_type": "markdown",
   "metadata": {},
   "source": [
    "## Dataset and preprocessing\n",
    "\n",
    "Our dataset 'train_age_dataset.csv' can be found at: https://www.kaggle.com/datasets/adityak80/trell-social-media-usage-data?resource=download&select=train_age_dataset.csv.\n",
    "It can be used to find correlations between certain data about users and how many videos they watch or how long they look at a certain post on average.\n",
    "The only form of preprocessing we really used was Tukey's fences in our boxplot. We used the standard k value of 1.5 to sort out outliers, as we wanted to better show the difference between the age groups.\n",
    "\n",
    "The attributes we used to create our graphs:\n",
    "- \"slot1_trails_watched_per_day\": How many videos the user watches per day on average between 00:00 and 05:59.\n",
    "- \"slot2_trails_watched_per_day\": How many videos the user watches per day on average between 06:00 and 11:59.\n",
    "- \"slot3_trails_watched_per_day\": How many videos the user watches per day on average between 12:00 and 17:59.\n",
    "- \"slot4_trails_watched_per_day\": How many videos the user watches per day on average between 18:00 and 23:59.\n",
    "- \"avgCompletion\": How far the user completes watching a video on average, a value between 0 and 1.\n",
    "- \"age_group\": A value between 1 and 4, each value meaning a different age group.\n",
    "- \"content_views\": How many videos the user watches daily, on average.\n",
    "- \"creations\": How many videos the user uploads daily, on average.\n",
    "- \"gender\": A value, 1 or 2, representing male or female.\n",
    "- \"avgTimeSpent\": Average time spent by the user watching a video in seconds.\n",
    "- \"avgDuration\": Average duration of the videos that the user has watched.\n",
    "- \"tier\": A metric for the population of the city the user lives in."
   ]
  },
  {
   "cell_type": "code",
   "execution_count": null,
   "metadata": {
    "tags": []
   },
   "outputs": [],
   "source": [
    "# Calculate all possible Pearson's R\n",
    "\n",
    "# Read the CSV file into a pandas DataFrame\n",
    "df = pd.read_csv('train_age_dataset.csv')\n",
    "list_corr = []\n",
    "\n",
    "for column in df.columns:\n",
    "    for target_column in df.columns:\n",
    "        if column != target_column:\n",
    "            df_cleaned = df.dropna(subset=[column, target_column])\n",
    "\n",
    "            # Extract the two attributes as separate Series from the DataFrame\n",
    "            x = df_cleaned[column]\n",
    "            y = df_cleaned[target_column]\n",
    "            # Calculate Pearson's correlation coefficient and p-value\n",
    "            corr, p_value = pearsonr(x, y)\n",
    "\n",
    "            # Print the correlation coefficient\n",
    "            list_corr.append([corr, column, target_column])\n",
    "            #print(\"Pearson's correlation coefficient:\", corr)\n",
    "\n",
    "list_corr.sort()\n",
    "\n",
    "list_corr = list_corr[::2]\n",
    "\n",
    "print(list_corr[-10:])"
   ]
  },
  {
   "attachments": {},
   "cell_type": "markdown",
   "metadata": {},
   "source": [
    "## Reflection\n",
    "\n",
    "During our recent work session, we received valuable feedback from both the TA and our peers. We have carefully examined all the feedback and reflected on how we could enhance our data story.\n",
    "\n",
    "The primary feedback we received was concerning our data story's coherence and the relationship between the plots and the overarching narrative. The TA pointed out that instead of having a single cohesive story, we presented several small, independent stories tied to each plot. To address this, we have unified our data story and ensured that all the plots collectively substantiate this singular narrative. This means finding a common thread that connects each plot, offering a more comprehensive insight when they come together.\n",
    "\n",
    "Another crucial aspect emphasized in the feedback is the role of the plots in supporting the data story rather than the other way around. The data story should remain the focal point of our presentation, and the plots should serve as supporting arguments, helping to clarify and reinforce our narrative effectively.\n",
    "Moreover, the feedback regarding the plots involving age groups was valuable. We were reminded of the importance of accounting for the number of people in each age group while analyzing the data. By dividing the information by the number of individuals in each age group, we have gained deeper insights, such as understanding the behavior of the average person within an age group. For example, when we considered the age group of users under 18, it initially appeared that they uploaded the most videos. However, upon plotting the data per person, we discovered that this age group actually uploaded the least number of videos per individual compared to other age groups.\n",
    "\n",
    "Additionally, the feedback emphasized the need to be cautious about drawing definitive conclusions, as there might be other factors at play that we are unaware of. This reminded us that our findings should always be presented with some degree of uncertainty. For instance, while females spent more time on Trell on average than males, we cannot directly conclude that they watch more videos. Other variables, like video duration, could influence this observation. Therefore, it's essential to present our conclusions with the appropriate nuance and acknowledge the limitations of our analysis.\n",
    "\n",
    "In conclusion, the feedback we received has been immensely beneficial in shaping our data story. We now understand the importance of creating a coherent and unified narrative, with the plots working in harmony to support it. Additionally, accounting for the number of individuals in age groups and being mindful of potential confounding variables allows us to present a more insightful and accurate analysis. By addressing these areas of improvement, we are confident that our data story is more compelling and robust, leading to a better understanding of our dataset."
   ]
  },
  {
   "attachments": {},
   "cell_type": "markdown",
   "metadata": {},
   "source": [
    "## Work distribution\n",
    "\n",
    "- Creating the visualizations: Desmond\n",
    "- Adding labels to the visualizations: Jermain, Desmond\n",
    "- Overall layout updates of the visualizations and descriptions: Simon\n",
    "- Arguments / perspectives: Jermain, with support from Reinout\n",
    "- Writing the base reflection: Reinout\n",
    "- Rewriting / editing the reflection: Simon\n",
    "- Writing the dataset and preprocessing description: Simon\n",
    "- Preprocessing Pearson's R: Jermain"
   ]
  },
  {
   "attachments": {},
   "cell_type": "markdown",
   "metadata": {},
   "source": [
    "## Appendix\n",
    "\n",
    "Generative AI usage, all with ChatGPT, version Legacy 3.5:\n",
    "- Increasing the readability of the reflection text: https://chat.openai.com/share/857de284-ae62-4708-bbcb-e17c2afb53bb\n",
    "- Creating the dropdown menu in graph 4: https://chat.openai.com/share/d239bbe0-a450-42f2-ad95-b2bc11930293\n",
    "- Bugfixing some code / general information (ignore the first part, it was for an assignment): https://chat.openai.com/share/bb298020-dcea-44f1-aca5-623f02534107\n",
    "- Helping with calculating Pearson's R: https://chat.openai.com/share/07427d69-5879-4ca4-989b-61d909061156\n",
    "- Transitioning from matplotlib to plotly: https://chat.openai.com/share/83b2a229-867c-4383-a2c7-5edc06e700b1"
   ]
  }
 ],
 "metadata": {
  "kernelspec": {
   "display_name": "Python 3.11.0 64-bit",
   "language": "python",
   "name": "python3"
  },
  "language_info": {
   "codemirror_mode": {
    "name": "ipython",
    "version": 3
   },
   "file_extension": ".py",
   "mimetype": "text/x-python",
   "name": "python",
   "nbconvert_exporter": "python",
   "pygments_lexer": "ipython3",
   "version": "3.10.11"
  },
  "vscode": {
   "interpreter": {
    "hash": "aee8b7b246df8f9039afb4144a1f6fd8d2ca17a180786b69acc140d282b71a49"
   }
  }
 },
 "nbformat": 4,
 "nbformat_minor": 2
}
